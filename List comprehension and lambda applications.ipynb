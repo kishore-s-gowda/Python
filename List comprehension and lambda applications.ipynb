{
 "cells": [
  {
   "cell_type": "markdown",
   "metadata": {},
   "source": [
    "## Table of Content\n",
    "\n",
    "1. **[List Comprehension](#System)**\n",
    "2. **[Dictionary Comprehension](#System1)**\n",
    "3. **[Lambda function](#System3)**\n",
    "4. **[Applications of lambda function](#System3)**\n",
    "    - 4.1 - **[Map function](#map)**\n",
    "    - 4.2 - **[Filter function](#filter)**\n",
    "    - 4.3 - **[Reduce function](#reduce)**\n",
    "    - 4.4 - **[Accumulate function](#accumulate)**\n"
   ]
  },
  {
   "cell_type": "markdown",
   "metadata": {},
   "source": [
    "<a id=\"System\"> </a>\n",
    "# List comprehension"
   ]
  },
  {
   "cell_type": "markdown",
   "metadata": {},
   "source": [
    "List Comprehension is defined as an elegant way to define, create a list in Python. It is efficient in both computationally and in terms of coding space and time."
   ]
  },
  {
   "cell_type": "markdown",
   "metadata": {},
   "source": [
    "## Basic Syntax"
   ]
  },
  {
   "cell_type": "markdown",
   "metadata": {},
   "source": [
    "## [<3. expression>  <1. loop>  <2. gating condition>]"
   ]
  },
  {
   "cell_type": "markdown",
   "metadata": {},
   "source": [
    "#### Type 1"
   ]
  },
  {
   "cell_type": "code",
   "execution_count": null,
   "metadata": {},
   "outputs": [],
   "source": [
    "#1    [2. expression         1. for loop]\n",
    "\n",
    "for i in range(1,11):\n",
    "    list1.append(2**n)"
   ]
  },
  {
   "cell_type": "code",
   "execution_count": 1,
   "metadata": {},
   "outputs": [
    {
     "name": "stdout",
     "output_type": "stream",
     "text": [
      "[2, 4, 8, 16, 32, 64, 128, 256, 512, 1024]\n"
     ]
    }
   ],
   "source": [
    "p2list1 = [  2**n   for n in range(1,11)         ]\n",
    "print(p2list1)"
   ]
  },
  {
   "cell_type": "markdown",
   "metadata": {},
   "source": [
    "#### Type 2"
   ]
  },
  {
   "cell_type": "code",
   "execution_count": null,
   "metadata": {},
   "outputs": [],
   "source": [
    "#2  [3. expression            1.  for loop      2. <gating condition>] \n",
    "\n",
    "for i in range(2,20):\n",
    "    if i %2 == 0:\n",
    "        list.append(i**2)"
   ]
  },
  {
   "cell_type": "code",
   "execution_count": 2,
   "metadata": {},
   "outputs": [
    {
     "name": "stdout",
     "output_type": "stream",
     "text": [
      "[4, 16, 36, 64, 100, 144, 196, 256, 324]\n"
     ]
    }
   ],
   "source": [
    "sq_evenlist = [ i**2    for i in range(2,20)   if i%2 == 0]\n",
    "print(sq_evenlist)"
   ]
  },
  {
   "cell_type": "markdown",
   "metadata": {},
   "source": [
    "#### Type 3"
   ]
  },
  {
   "cell_type": "code",
   "execution_count": null,
   "metadata": {},
   "outputs": [],
   "source": [
    "#3   [ 2.ifelse based expression        1. for loop] \n",
    "\n",
    "for i in range(15)\n",
    "   if i %2 == 0:\n",
    "       list1.append(i * 2)\n",
    "   else:\n",
    "        list1.append(i*3)"
   ]
  },
  {
   "cell_type": "code",
   "execution_count": 3,
   "metadata": {},
   "outputs": [
    {
     "name": "stdout",
     "output_type": "stream",
     "text": [
      "[0, 3, 4, 9, 8, 15, 12, 21, 16, 27, 20, 33, 24, 39, 28]\n"
     ]
    }
   ],
   "source": [
    "odd_even_list = [i*2 if i%2==0 else i*3          for i in range(15)       ]\n",
    "print(odd_even_list)"
   ]
  },
  {
   "cell_type": "markdown",
   "metadata": {},
   "source": [
    "#### Type 4"
   ]
  },
  {
   "cell_type": "code",
   "execution_count": null,
   "metadata": {},
   "outputs": [],
   "source": [
    "#4 [3. <if else basesd expression>  1. for i in range(100)   2.<gating condition]"
   ]
  },
  {
   "cell_type": "code",
   "execution_count": 4,
   "metadata": {},
   "outputs": [
    {
     "name": "stdout",
     "output_type": "stream",
     "text": [
      "[0, -3, 6, -9, 12, -15, 18, -21, 24, -27, 30, -33, 36, -39, 42, -45, 48]\n"
     ]
    }
   ],
   "source": [
    "mylist1 = [  n if n%2==0 else -n      for n in range(50)  if n%3==0  ]\n",
    "print(mylist1)"
   ]
  },
  {
   "cell_type": "markdown",
   "metadata": {},
   "source": [
    "#### Type 5 (Nested for loop)"
   ]
  },
  {
   "cell_type": "code",
   "execution_count": null,
   "metadata": {},
   "outputs": [],
   "source": [
    "#5 [3.expression        1.for loop      2.for loop]\n",
    "\n",
    "uplist = []\n",
    "    for u in ulist:\n",
    "        for p in plist:\n",
    "            uplist.append((u,p))\n",
    "print(uplist)"
   ]
  },
  {
   "cell_type": "code",
   "execution_count": 5,
   "metadata": {},
   "outputs": [
    {
     "name": "stdout",
     "output_type": "stream",
     "text": [
      "[('u1', 'p1'), ('u1', 'p2'), ('u1', 'p3'), ('u2', 'p1'), ('u2', 'p2'), ('u2', 'p3'), ('u3', 'p1'), ('u3', 'p2'), ('u3', 'p3')]\n"
     ]
    }
   ],
   "source": [
    "ulist = ['u1','u2','u3']\n",
    "plist = ['p1','p2','p3']\n",
    "uplist = [ (u,p) for u in ulist   for p in plist]\n",
    "print(uplist)"
   ]
  },
  {
   "cell_type": "markdown",
   "metadata": {},
   "source": [
    "#### Type 6A(Nested if loop in expression)"
   ]
  },
  {
   "cell_type": "code",
   "execution_count": 6,
   "metadata": {},
   "outputs": [
    {
     "name": "stdout",
     "output_type": "stream",
     "text": [
      "[0, 1, 2, -3, 4, 3125, 6, 16807, 8, -9, 10, 161051, 12, 371293, 14, -15, 16, 1419857, 18, 2476099]\n"
     ]
    }
   ],
   "source": [
    "mylist1 = [  n if n%2==0 else -n  if n%3==0 else n**5   for n in range(20) ]\n",
    "print(mylist1)\n"
   ]
  },
  {
   "cell_type": "markdown",
   "metadata": {},
   "source": [
    "#### Type 6B(Nested for if loop)"
   ]
  },
  {
   "cell_type": "code",
   "execution_count": 7,
   "metadata": {},
   "outputs": [
    {
     "name": "stdout",
     "output_type": "stream",
     "text": [
      "[('u2', 'p1'), ('u2', 'p2'), ('u3', 'p1'), ('u3', 'p2')]\n"
     ]
    }
   ],
   "source": [
    "uplist = [ (u,p) for u in ulist  if u != 'u1' for p in plist  if p != 'p3']\n",
    "print(uplist)\n",
    "#u2,u3  p1,p2   u2,p1  u2,23  u3p1  u3p2"
   ]
  },
  {
   "cell_type": "code",
   "execution_count": 8,
   "metadata": {},
   "outputs": [
    {
     "name": "stdout",
     "output_type": "stream",
     "text": [
      "[0, 2, 3, 4, 6, 8, 9, 10, 12, 14, 15, 16, 18, 20, 21, 22, 24, 26, 27, 28, 30, 32, 33, 34, 36, 38, 39, 40, 42, 44, 45, 46, 48, 50, 51, 52, 54, 56, 57, 58, 60, 62, 63, 64, 66, 68, 69, 70, 72, 74, 75, 76, 78, 80, 81, 82, 84, 86, 87, 88, 90, 92, 93, 94, 96, 98, 99, 100]\n"
     ]
    }
   ],
   "source": [
    "mulyiple_2_3 = [n for n in range(101) if n % 2 == 0 or n % 3 == 0]\n",
    "print(mulyiple_2_3)"
   ]
  },
  {
   "cell_type": "markdown",
   "metadata": {},
   "source": [
    "<a id=\"System1\"> </a>\n",
    "## Dictionary comprehension"
   ]
  },
  {
   "cell_type": "markdown",
   "metadata": {},
   "source": [
    "Similar to list comprehension there is also dictionary comprehension"
   ]
  },
  {
   "cell_type": "code",
   "execution_count": 9,
   "metadata": {},
   "outputs": [
    {
     "data": {
      "text/plain": [
       "{'Square of 0': 0,\n",
       " 'Square of 1': 1,\n",
       " 'Square of 2': 4,\n",
       " 'Square of 3': 9,\n",
       " 'Square of 4': 16,\n",
       " 'Square of 5': 25,\n",
       " 'Square of 6': 36,\n",
       " 'Square of 7': 49,\n",
       " 'Square of 8': 64,\n",
       " 'Square of 9': 81}"
      ]
     },
     "execution_count": 9,
     "metadata": {},
     "output_type": "execute_result"
    }
   ],
   "source": [
    "di={\"Square of \"+str(i):i**2 for i in range(10)}\n",
    "di"
   ]
  },
  {
   "cell_type": "markdown",
   "metadata": {},
   "source": [
    "<a id=\"System2\"> </a>\n",
    "# Lambda functions (annoyomous functions)"
   ]
  },
  {
   "cell_type": "markdown",
   "metadata": {},
   "source": [
    "A lambda function is a small anonymous function.\n",
    "A lambda function can take any number of arguments, but can only have one expression."
   ]
  },
  {
   "cell_type": "code",
   "execution_count": 10,
   "metadata": {},
   "outputs": [],
   "source": [
    "addsum1 = lambda n1,n2 : n1+n2"
   ]
  },
  {
   "cell_type": "code",
   "execution_count": 11,
   "metadata": {},
   "outputs": [],
   "source": [
    "absdiff = lambda n1,n2:  n1-n2 if n1>=n2 else n2-n1"
   ]
  },
  {
   "cell_type": "code",
   "execution_count": 12,
   "metadata": {},
   "outputs": [],
   "source": [
    "absdiff = lambda n1,n2:  n1-n2 if n1>n2 else 'Equal' if n1==n2 else n2-n1"
   ]
  },
  {
   "cell_type": "markdown",
   "metadata": {},
   "source": [
    "<a id=\"System3\"> </a>\n",
    "# Applications of lambda"
   ]
  },
  {
   "cell_type": "markdown",
   "metadata": {},
   "source": [
    "<a id=\"map\"> </a>\n",
    "## map()"
   ]
  },
  {
   "cell_type": "markdown",
   "metadata": {},
   "source": [
    "The map() function executes a specified function for each item in an iterable. The item is sent to the function as a parameter."
   ]
  },
  {
   "cell_type": "code",
   "execution_count": 13,
   "metadata": {},
   "outputs": [
    {
     "name": "stdout",
     "output_type": "stream",
     "text": [
      "[1000, 2000, 3000, 4000, 5000]\n"
     ]
    }
   ],
   "source": [
    "kmlist = [1,2,3,4,5]\n",
    "mlist = map(lambda k : k * 1000 , kmlist)\n",
    "print(list(mlist))"
   ]
  },
  {
   "cell_type": "markdown",
   "metadata": {},
   "source": [
    "<a id=\"filter\"> </a>\n",
    "## filter()"
   ]
  },
  {
   "cell_type": "markdown",
   "metadata": {},
   "source": [
    "The filter() function returns an iterator were the items are filtered through a function to test if the item is accepted or not."
   ]
  },
  {
   "cell_type": "code",
   "execution_count": 14,
   "metadata": {},
   "outputs": [
    {
     "name": "stdout",
     "output_type": "stream",
     "text": [
      "[1, 4, 7, 10, 13, 16, 19, 22, 25, 28, 31, 34, 37, 40, 43, 46, 49, 52, 55, 58]\n",
      "[4, 10, 16, 22, 28, 34, 40, 46, 52, 58]\n"
     ]
    }
   ],
   "source": [
    "numlist = list(range(1,60,3))\n",
    "evenlist = filter(lambda n: n%2==0  ,numlist  )\n",
    "print(numlist)\n",
    "print(list(evenlist))"
   ]
  },
  {
   "cell_type": "markdown",
   "metadata": {},
   "source": [
    "<a id=\"reduce\"> </a>\n",
    "## functools.reduce()"
   ]
  },
  {
   "cell_type": "code",
   "execution_count": 15,
   "metadata": {},
   "outputs": [
    {
     "name": "stdout",
     "output_type": "stream",
     "text": [
      "15\n"
     ]
    }
   ],
   "source": [
    "import functools\n",
    "mylist1 = [1,2,3,4,5]\n",
    "rsum = functools.reduce(lambda x,y: x+y, mylist1)\n",
    "print(rsum)"
   ]
  },
  {
   "cell_type": "code",
   "execution_count": 16,
   "metadata": {},
   "outputs": [
    {
     "name": "stdout",
     "output_type": "stream",
     "text": [
      "11\n"
     ]
    }
   ],
   "source": [
    "mylist1 = [2,4,6,3,5,7,9,11,2,4,6,7]\n",
    "rmax = functools.reduce(lambda x,y: x if x>y else y, mylist1)\n",
    "print(rmax)"
   ]
  },
  {
   "cell_type": "markdown",
   "metadata": {},
   "source": [
    "<a id=\"accumulate\"> </a>\n",
    "## itertools.accumulate()"
   ]
  },
  {
   "cell_type": "code",
   "execution_count": 17,
   "metadata": {},
   "outputs": [
    {
     "name": "stdout",
     "output_type": "stream",
     "text": [
      "<itertools.accumulate object at 0x0000014D3E4ABEC0>\n",
      "[2, 4, 6, 6, 6, 7, 9, 11, 11, 11, 11, 11]\n"
     ]
    }
   ],
   "source": [
    "import itertools\n",
    "mylist1 = [2,4,6,3,5,7,9,11,2,4,6,7]\n",
    "rmax = itertools.accumulate(mylist1, lambda x,y: x if x>y else y)\n",
    "print(rmax)\n",
    "print(list(rmax))"
   ]
  }
 ],
 "metadata": {
  "kernelspec": {
   "display_name": "Python 3",
   "language": "python",
   "name": "python3"
  },
  "language_info": {
   "codemirror_mode": {
    "name": "ipython",
    "version": 3
   },
   "file_extension": ".py",
   "mimetype": "text/x-python",
   "name": "python",
   "nbconvert_exporter": "python",
   "pygments_lexer": "ipython3",
   "version": "3.8.3"
  }
 },
 "nbformat": 4,
 "nbformat_minor": 4
}
