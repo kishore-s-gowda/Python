{
 "cells": [
  {
   "cell_type": "code",
   "execution_count": 1,
   "metadata": {},
   "outputs": [],
   "source": [
    "import re"
   ]
  },
  {
   "cell_type": "markdown",
   "metadata": {},
   "source": [
    "### \\d-matches any digit\n",
    "### \\w-matches alphanumeric and underscore\n",
    "### ^ -matches the beginning\n",
    "### $ -matches the end\n",
    "###  * repeats a character zero or more times\n",
    "### *? repeats a character zero or more times(non-greedy matching)\n",
    "### + repeats a character one or more times\n",
    "### +? repeats a character one or more times(non-greedy matching)\n",
    "### [aeiou]-matches a single character in the listed set\n",
    "### [0-9]-matches digits\n",
    "### [^xyz]-matches a single character not in the listed set\n",
    "### (-Indicates where string extraction to start\n",
    "### )-Indicates where string extraction to end\n",
    "### \\S -matches any non-white space characters\n",
    "### \\s -matches whitespaces\n",
    "### . - matches any character"
   ]
  },
  {
   "cell_type": "markdown",
   "metadata": {},
   "source": [
    "#### Raw string\n"
   ]
  },
  {
   "cell_type": "code",
   "execution_count": 2,
   "metadata": {},
   "outputs": [
    {
     "name": "stdout",
     "output_type": "stream",
     "text": [
      "Welcome to \n",
      "python\n",
      "Welcome to \\npython\n"
     ]
    }
   ],
   "source": [
    "print(\"Welcome to \\npython\")\n",
    "print(r\"Welcome to \\npython\")"
   ]
  },
  {
   "cell_type": "markdown",
   "metadata": {},
   "source": [
    "#### (match) looks only in the beginning"
   ]
  },
  {
   "cell_type": "code",
   "execution_count": 3,
   "metadata": {},
   "outputs": [
    {
     "name": "stdout",
     "output_type": "stream",
     "text": [
      "None\n",
      "<re.Match object; span=(0, 5), match='Share'>\n"
     ]
    }
   ],
   "source": [
    "mystr=\"Share price at National stock exchange\"\n",
    "mobj=re.match(\"National\",mystr)\n",
    "print(mobj)\n",
    "mobj1=re.match(\"Share\",mystr)\n",
    "print(mobj1)"
   ]
  },
  {
   "cell_type": "markdown",
   "metadata": {},
   "source": [
    "#### (search) looks in the entire string"
   ]
  },
  {
   "cell_type": "code",
   "execution_count": 4,
   "metadata": {},
   "outputs": [
    {
     "name": "stdout",
     "output_type": "stream",
     "text": [
      "<re.Match object; span=(15, 23), match='National'>\n",
      "National\n",
      "15\n",
      "23\n"
     ]
    }
   ],
   "source": [
    "mobj2=re.search(\"National\",mystr)\n",
    "print(mobj2)\n",
    "print(mobj2.group())\n",
    "print(mobj2.start())\n",
    "print(mobj2.end())"
   ]
  },
  {
   "cell_type": "markdown",
   "metadata": {},
   "source": [
    "## usage of (\\w)\n",
    "Returns a match where the string contains any word characters (characters from a to Z, digits from 0-9, and the underscore _ character)"
   ]
  },
  {
   "cell_type": "code",
   "execution_count": 5,
   "metadata": {},
   "outputs": [
    {
     "name": "stdout",
     "output_type": "stream",
     "text": [
      "<re.Match object; span=(5, 14), match='Price@NSE'>\n",
      "Price@NSE\n",
      "Price@NSE\n",
      "5\n",
      "14\n"
     ]
    }
   ],
   "source": [
    "def re_example1():\n",
    "    mystr=\"SharePrice@NSExchange\"\n",
    "    mobj2=re.search(\"Price@\\w\\w\\w\",mystr)\n",
    "    if(mobj2):\n",
    "        print(mobj2)\n",
    "        print(mobj2.group())\n",
    "        print(mobj2.group(0))\n",
    "        print(mobj2.start())\n",
    "        print(mobj2.end())\n",
    "    else:\n",
    "        print(\"No match\")\n",
    "        \n",
    "re_example1()"
   ]
  },
  {
   "cell_type": "markdown",
   "metadata": {},
   "source": [
    "## Usage of (re.I)\n",
    "removes case sensitive of strings"
   ]
  },
  {
   "cell_type": "code",
   "execution_count": 6,
   "metadata": {},
   "outputs": [
    {
     "name": "stdout",
     "output_type": "stream",
     "text": [
      "<re.Match object; span=(5, 14), match='PRiCe@NSE'>\n",
      "PRiCe@NSE\n",
      "PRiCe@NSE\n",
      "5\n",
      "14\n"
     ]
    }
   ],
   "source": [
    "def re_example1():\n",
    "    mystr=\"SharePRiCe@NSExchange\"\n",
    "    mobj2=re.search(\"Price@\\w\\w\\w\",mystr,re.I)\n",
    "    if(mobj2):\n",
    "        print(mobj2)\n",
    "        print(mobj2.group())\n",
    "        print(mobj2.group(0))\n",
    "        print(mobj2.start())\n",
    "        print(mobj2.end())\n",
    "    else:\n",
    "        print(\"No match\")\n",
    "        \n",
    "re_example1()        "
   ]
  },
  {
   "cell_type": "markdown",
   "metadata": {},
   "source": [
    "## usage of (\\d) \n",
    "looks for integer"
   ]
  },
  {
   "cell_type": "code",
   "execution_count": 8,
   "metadata": {},
   "outputs": [
    {
     "name": "stdout",
     "output_type": "stream",
     "text": [
      "<re.Match object; span=(22, 25), match='10k'>\n",
      "<re.Match object; span=(27, 32), match='5102k'>\n",
      "<re.Match object; span=(26, 32), match='15102k'>\n",
      "<re.Match object; span=(26, 32), match='15102k'>\n"
     ]
    }
   ],
   "source": [
    "def re_example2():\n",
    "    mystr3=\"IndexPrice@NSExchange@10k@15102k17\"\n",
    "    mobj3=re.search(r\"\\d\\dk\",mystr3)\n",
    "    if(mobj3):\n",
    "        print(mobj3)\n",
    "    mobj3=re.search(r\"\\d{4}k\",mystr3)    \n",
    "    if(mobj3):\n",
    "        print(mobj3)\n",
    "    mobj3=re.search(r\"\\d{3,9}k\",mystr3) #atleast 3 and maximum 9 numbers   \n",
    "    if(mobj3):\n",
    "        print(mobj3)\n",
    "    mobj3=re.search(r\"\\d{5,9}k\",mystr3)    \n",
    "    if(mobj3):\n",
    "        print(mobj3)\n",
    "    mobj3=re.search(r\"\\d{6,9}k\",mystr3)    \n",
    "    if(mobj3):\n",
    "        print(mobj3)   \n",
    "re_example2()"
   ]
  },
  {
   "cell_type": "markdown",
   "metadata": {},
   "source": [
    "## usage of .(dot)\n",
    "Matches any character other than \\n"
   ]
  },
  {
   "cell_type": "code",
   "execution_count": 8,
   "metadata": {},
   "outputs": [
    {
     "name": "stdout",
     "output_type": "stream",
     "text": [
      "<re.Match object; span=(0, 2), match='ab'>\n",
      "<re.Match object; span=(0, 3), match='ab\\t'>\n",
      "<re.Match object; span=(0, 4), match='ab\\tc'>\n",
      "<re.Match object; span=(5, 10), match='vwxyz'>\n"
     ]
    }
   ],
   "source": [
    "def re_example3():\n",
    "    mobj=re.search(r\"..\",\"ab\\tc\\nvwxyz\")\n",
    "    if(mobj):\n",
    "        print(mobj)\n",
    "    mobj=re.search(r\"...\",\"ab\\tc\\nvwxyz\")\n",
    "    if(mobj):\n",
    "        print(mobj)\n",
    "    mobj=re.search(r\"....\",\"ab\\tc\\nvwxyz\")\n",
    "    if(mobj):\n",
    "        print(mobj)\n",
    "    mobj=re.search(r\".....\",\"ab\\tc\\nvwxyz\") # it does not match \\n so it skips\n",
    "    if(mobj):\n",
    "        print(mobj)\n",
    "re_example3()    "
   ]
  },
  {
   "cell_type": "markdown",
   "metadata": {},
   "source": [
    "## Repetition\n",
    "#### * repeats a character zero or more times\n",
    "#### *? repeats a character zero or more times(non-greedy matching)\n",
    "#### + repeats a character one or more times\n",
    "#### +? repeats a character one or more times(non-greedy matching)"
   ]
  },
  {
   "cell_type": "code",
   "execution_count": 9,
   "metadata": {},
   "outputs": [
    {
     "name": "stdout",
     "output_type": "stream",
     "text": [
      "<re.Match object; span=(7, 10), match='arr'>\n",
      "<re.Match object; span=(7, 10), match='arr'>\n",
      "\n",
      "<re.Match object; span=(8, 11), match='rrs'>\n",
      "<re.Match object; span=(8, 11), match='rrs'>\n",
      "\n",
      "<re.Match object; span=(12, 16), match='Grrr'>\n",
      "<re.Match object; span=(12, 16), match='Grrr'>\n",
      "\n",
      "None\n",
      "<re.Match object; span=(2, 3), match='o'>\n",
      "\n",
      "<re.Match object; span=(17, 22), match='rrrre'>\n",
      "<re.Match object; span=(17, 22), match='rrrre'>\n",
      "\n",
      "<re.Match object; span=(23, 30), match='aaarrru'>\n",
      "\n",
      "<re.Match object; span=(8, 10), match='rr'>\n",
      "<re.Match object; span=(5, 6), match='r'>\n"
     ]
    }
   ],
   "source": [
    "def re_example3():\n",
    "    print(re.search(r'ar+',\"Lion roarrs Grrrurrrre\"))\n",
    "    print(re.search(r'ar*',\"Lion roarrs Grrrurrrre\"))\n",
    "    print()\n",
    "    print(re.search(r'r+s',\"Lion roarrs Grrrurrrre\"))\n",
    "    print(re.search(r'r*s',\"Lion roarrs Grrrurrrre\"))\n",
    "    print()\n",
    "    print(re.search(r'gr+',\"Lion roarrs Grrrurrrre\",re.I))\n",
    "    print(re.search(r'gr*',\"Lion roarrs Grrrurrrre\",re.I))\n",
    "    print()\n",
    "    print(re.search(r'or+',\"Lion roarrs Grrrurrrre\")) #prints none\n",
    "    print(re.search(r'or*',\"Lion roarrs Grrrurrrre\")) #prints o\n",
    "    print()\n",
    "    print(re.search(r'r*e',\"Lion roarrs Grrrurrrre\"))\n",
    "    print(re.search(r'r+e',\"Lion roarrs Grrrurrrre\"))\n",
    "    print()\n",
    "    print(re.search(r'a{3}r+u',\"Lion aaaarrrr roaarrru aaarrrurrre\"))\n",
    "    print()\n",
    "    print(re.search(r'r+u*r+e*',\"Lion roarrs Grrrurrrre\"))# doubt\n",
    "    print(re.search(r'r+u*r*e*',\"Lion roarrs Grrrurrrre\"))# doubt\n",
    "    \n",
    "re_example3()   "
   ]
  },
  {
   "cell_type": "markdown",
   "metadata": {},
   "source": [
    "## Usage of \\s\n",
    "Matches whitespaces"
   ]
  },
  {
   "cell_type": "code",
   "execution_count": 10,
   "metadata": {},
   "outputs": [
    {
     "name": "stdout",
     "output_type": "stream",
     "text": [
      "<re.Match object; span=(14, 18), match=' 123'>\n"
     ]
    }
   ],
   "source": [
    "def re_example4():\n",
    "    mystr='Stock_456Value 123@NSEM.com is High'\n",
    "    pattern=r'\\s\\d\\d\\d'\n",
    "    print(re.search(pattern,mystr)) \n",
    "    \n",
    "re_example4()                    "
   ]
  },
  {
   "cell_type": "markdown",
   "metadata": {},
   "source": [
    "## Usage of (^)-beginning and ($)-end"
   ]
  },
  {
   "cell_type": "code",
   "execution_count": 11,
   "metadata": {},
   "outputs": [
    {
     "name": "stdout",
     "output_type": "stream",
     "text": [
      "None 1\n",
      "<re.Match object; span=(0, 8), match='RingSing'> 2\n",
      "<re.Match object; span=(5, 9), match='Sing'> 3\n",
      "<re.Match object; span=(0, 8), match='RingSing'> 4\n",
      "None 5\n",
      "<re.Match object; span=(0, 2), match='Rg'> 6\n",
      "<re.Match object; span=(0, 8), match='RingSing'> 7\n",
      "<re.Match object; span=(0, 4), match='Ring'> 8\n"
     ]
    }
   ],
   "source": [
    "def re_example5():\n",
    "    print(re.search(r\"^r\\w+\",\"KingSing\",re.I),'1')\n",
    "    print(re.search(r\"^r\\w+\",\"RingSing\",re.I),'2')\n",
    "    \n",
    "    print(re.search(r\"\\w+g$\",\"King Sing\",re.I),'3')\n",
    "    print(re.search(r\"^r\\w+g$\",\"RingSing\",re.I),'4')# No character should come after $\n",
    "    \n",
    "    print(re.search(r\"^rg$\",\"KingSing\",re.I),'5')\n",
    "    print(re.search(r\"^rg$\",\"Rg\",re.I),'6')\n",
    "    print(re.search(r'^r\\w+g','RingSing',re.I),'7')\n",
    "    print(re.search(r'^r\\w+?g','RingSing',re.I),'8')\n",
    "    \n",
    "re_example5()    "
   ]
  },
  {
   "cell_type": "markdown",
   "metadata": {},
   "source": [
    "## Difference between search and findall"
   ]
  },
  {
   "cell_type": "code",
   "execution_count": 12,
   "metadata": {},
   "outputs": [
    {
     "name": "stdout",
     "output_type": "stream",
     "text": [
      "<re.Match object; span=(13, 14), match='2'>\n"
     ]
    }
   ],
   "source": [
    "x=\"My favourite 2 numbers are 19 and 42\"\n",
    "y=re.search(r'\\d+',x)\n",
    "print(y)"
   ]
  },
  {
   "cell_type": "code",
   "execution_count": 13,
   "metadata": {},
   "outputs": [
    {
     "name": "stdout",
     "output_type": "stream",
     "text": [
      "['2', '19', '42']\n"
     ]
    }
   ],
   "source": [
    "x=\"My favourite 2 numbers are 19 and 42\"\n",
    "y=re.findall(r'\\d+',x)\n",
    "print(y)"
   ]
  },
  {
   "cell_type": "markdown",
   "metadata": {},
   "source": [
    "#### [aeiou]-matches a single character in the listed set\n",
    "#### [0-9]-matches digits\n",
    "#### [^xyz]-matches a single character not in the listed set\n",
    "#### (-Indicates where string extraction to start\n",
    "#### )-Indicates where string extraction to end\n",
    "#### \\S -matches any non-white space characters"
   ]
  },
  {
   "cell_type": "code",
   "execution_count": 14,
   "metadata": {},
   "outputs": [
    {
     "name": "stdout",
     "output_type": "stream",
     "text": [
      "['2', '19', '42']\n",
      "[]\n",
      "['a', 'ou', 'i', 'e', 'u', 'e', 'a', 'e', 'a']\n",
      "['My f', 'v', 'r', 't', ' 2 n', 'mb', 'rs ', 'r', ' 19 ', 'nd 42']\n"
     ]
    }
   ],
   "source": [
    "x=\"My favourite 2 numbers are 19 and 42\"\n",
    "y=re.findall(r'[0-9]+',x)\n",
    "z=re.findall(r'[AEIOU]+',x)\n",
    "z1=re.findall(r'[AEIOU]+',x,re.I)\n",
    "z2=re.findall(r'[^aeiou]+',x)\n",
    "print(y)\n",
    "print(z)\n",
    "print(z1)\n",
    "print(z2)"
   ]
  },
  {
   "cell_type": "markdown",
   "metadata": {},
   "source": [
    "## Email extraction"
   ]
  },
  {
   "cell_type": "code",
   "execution_count": 15,
   "metadata": {},
   "outputs": [
    {
     "name": "stdout",
     "output_type": "stream",
     "text": [
      "1 ['uct.ac.za']\n",
      "2 ['uct.ac.za']\n",
      "3 ['Stephen.marquard@uct.ac.za']\n"
     ]
    }
   ],
   "source": [
    "data='From Stephen.marquard@uct.ac.za Sat Jan 09:14:16 2008'\n",
    "print('1',re.findall('^From.*@([^ ]*)',data))\n",
    "print('2',re.findall('^From.*@(\\S*)',data))\n",
    "print('3',re.findall('\\S+@\\S+',data))"
   ]
  },
  {
   "cell_type": "code",
   "execution_count": 16,
   "metadata": {},
   "outputs": [
    {
     "name": "stdout",
     "output_type": "stream",
     "text": [
      "[]\n",
      "['your-name@gmail.com']\n"
     ]
    }
   ],
   "source": [
    "import re\n",
    "str3='school 2020your-name@gmail.com music class'\n",
    "str4='school your-name@gmail.com music class'\n",
    "def searchEmail(mystr):\n",
    "    match=re.findall(r'\\s([a-z]+[\\w.-]+@[a-z0-9.]+)',mystr)\n",
    "    #print(match)\n",
    "    return match\n",
    "print(searchEmail(str3))\n",
    "print(searchEmail(str4))"
   ]
  },
  {
   "cell_type": "code",
   "execution_count": 17,
   "metadata": {},
   "outputs": [
    {
     "data": {
      "text/plain": [
       "[]"
      ]
     },
     "execution_count": 17,
     "metadata": {},
     "output_type": "execute_result"
    }
   ],
   "source": [
    "searchEmail(str3)"
   ]
  },
  {
   "cell_type": "code",
   "execution_count": 18,
   "metadata": {},
   "outputs": [
    {
     "name": "stdout",
     "output_type": "stream",
     "text": [
      "['u1@gmail.in', 'u2@yahoo.com', 'u3@hotmail.org']\n"
     ]
    }
   ],
   "source": [
    "mystr='hello world u1@gmail.in python u2@yahoo.com world u3@hotmail.org dskjd'\n",
    "match=re.findall(r'[0-9a-z.-]+@[a-z0-9.-]+',mystr,re.I)\n",
    "print(match)"
   ]
  },
  {
   "cell_type": "code",
   "execution_count": 19,
   "metadata": {},
   "outputs": [],
   "source": [
    "matches=re.finditer(r'[0-9a-z.-]+@[a-z0-9.-]+',mystr,re.I)"
   ]
  },
  {
   "cell_type": "code",
   "execution_count": 20,
   "metadata": {},
   "outputs": [
    {
     "data": {
      "text/plain": [
       "<callable_iterator at 0x267e1a8b288>"
      ]
     },
     "execution_count": 20,
     "metadata": {},
     "output_type": "execute_result"
    }
   ],
   "source": [
    "matches #Stored as iterator, which can be used only once"
   ]
  },
  {
   "cell_type": "code",
   "execution_count": 21,
   "metadata": {},
   "outputs": [
    {
     "name": "stdout",
     "output_type": "stream",
     "text": [
      "<re.Match object; span=(12, 23), match='u1@gmail.in'>\n",
      "u1@gmail.in\n",
      "<re.Match object; span=(31, 43), match='u2@yahoo.com'>\n",
      "u2@yahoo.com\n",
      "<re.Match object; span=(50, 64), match='u3@hotmail.org'>\n",
      "u3@hotmail.org\n"
     ]
    }
   ],
   "source": [
    "for item in matches:\n",
    "    print(item)\n",
    "    print(item.group())"
   ]
  },
  {
   "cell_type": "markdown",
   "metadata": {},
   "source": [
    "## Substitution"
   ]
  },
  {
   "cell_type": "code",
   "execution_count": 22,
   "metadata": {},
   "outputs": [
    {
     "name": "stdout",
     "output_type": "stream",
     "text": [
      "x mx orx\n"
     ]
    }
   ],
   "source": [
    "mystr='apple mango orange'\n",
    "print(re.sub(r'a\\w+',r'x',mystr))"
   ]
  }
 ],
 "metadata": {
  "kernelspec": {
   "display_name": "Python 3",
   "language": "python",
   "name": "python3"
  },
  "language_info": {
   "codemirror_mode": {
    "name": "ipython",
    "version": 3
   },
   "file_extension": ".py",
   "mimetype": "text/x-python",
   "name": "python",
   "nbconvert_exporter": "python",
   "pygments_lexer": "ipython3",
   "version": "3.8.3"
  }
 },
 "nbformat": 4,
 "nbformat_minor": 4
}
